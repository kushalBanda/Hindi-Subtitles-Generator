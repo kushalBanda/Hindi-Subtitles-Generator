{
  "cells": [
    {
      "cell_type": "markdown",
      "source": [
        "### Pip installing Whisper and GoogleTrans"
      ],
      "metadata": {
        "id": "weA67g0AxU5l"
      }
    },
    {
      "cell_type": "code",
      "execution_count": 1,
      "metadata": {
        "id": "PzjE4hIjjZ2h",
        "colab": {
          "base_uri": "https://localhost:8080/"
        },
        "outputId": "4d9dbb21-6e7f-4f43-c50f-d32b0b480f1d"
      },
      "outputs": [
        {
          "output_type": "stream",
          "name": "stdout",
          "text": [
            "\u001b[K     |████████████████████████████████| 5.8 MB 22.1 MB/s \n",
            "\u001b[K     |████████████████████████████████| 182 kB 76.5 MB/s \n",
            "\u001b[K     |████████████████████████████████| 7.6 MB 59.4 MB/s \n",
            "\u001b[?25h  Building wheel for whisper (setup.py) ... \u001b[?25l\u001b[?25hdone\n"
          ]
        }
      ],
      "source": [
        "! pip install git+https://github.com/openai/whisper.git -q"
      ]
    },
    {
      "cell_type": "code",
      "execution_count": 2,
      "metadata": {
        "colab": {
          "base_uri": "https://localhost:8080/"
        },
        "id": "gJLAZo0a6JMM",
        "outputId": "e8c395c7-2f9b-465e-ba38-e627072be049"
      },
      "outputs": [
        {
          "output_type": "stream",
          "name": "stdout",
          "text": [
            "Looking in indexes: https://pypi.org/simple, https://us-python.pkg.dev/colab-wheels/public/simple/\n",
            "Collecting googletrans==3.1.0a0\n",
            "  Downloading googletrans-3.1.0a0.tar.gz (19 kB)\n",
            "Collecting httpx==0.13.3\n",
            "  Downloading httpx-0.13.3-py3-none-any.whl (55 kB)\n",
            "\u001b[K     |████████████████████████████████| 55 kB 3.6 MB/s \n",
            "\u001b[?25hRequirement already satisfied: idna==2.* in /usr/local/lib/python3.8/dist-packages (from httpx==0.13.3->googletrans==3.1.0a0) (2.10)\n",
            "Requirement already satisfied: certifi in /usr/local/lib/python3.8/dist-packages (from httpx==0.13.3->googletrans==3.1.0a0) (2022.9.24)\n",
            "Collecting hstspreload\n",
            "  Downloading hstspreload-2022.12.1-py3-none-any.whl (1.5 MB)\n",
            "\u001b[K     |████████████████████████████████| 1.5 MB 55.8 MB/s \n",
            "\u001b[?25hRequirement already satisfied: chardet==3.* in /usr/local/lib/python3.8/dist-packages (from httpx==0.13.3->googletrans==3.1.0a0) (3.0.4)\n",
            "Collecting sniffio\n",
            "  Downloading sniffio-1.3.0-py3-none-any.whl (10 kB)\n",
            "Collecting httpcore==0.9.*\n",
            "  Downloading httpcore-0.9.1-py3-none-any.whl (42 kB)\n",
            "\u001b[K     |████████████████████████████████| 42 kB 1.5 MB/s \n",
            "\u001b[?25hCollecting rfc3986<2,>=1.3\n",
            "  Downloading rfc3986-1.5.0-py2.py3-none-any.whl (31 kB)\n",
            "Collecting h11<0.10,>=0.8\n",
            "  Downloading h11-0.9.0-py2.py3-none-any.whl (53 kB)\n",
            "\u001b[K     |████████████████████████████████| 53 kB 1.1 MB/s \n",
            "\u001b[?25hCollecting h2==3.*\n",
            "  Downloading h2-3.2.0-py2.py3-none-any.whl (65 kB)\n",
            "\u001b[K     |████████████████████████████████| 65 kB 3.6 MB/s \n",
            "\u001b[?25hCollecting hyperframe<6,>=5.2.0\n",
            "  Downloading hyperframe-5.2.0-py2.py3-none-any.whl (12 kB)\n",
            "Collecting hpack<4,>=3.0\n",
            "  Downloading hpack-3.0.0-py2.py3-none-any.whl (38 kB)\n",
            "Building wheels for collected packages: googletrans\n",
            "  Building wheel for googletrans (setup.py) ... \u001b[?25l\u001b[?25hdone\n",
            "  Created wheel for googletrans: filename=googletrans-3.1.0a0-py3-none-any.whl size=16368 sha256=fab32e167e30047ced1566f25fc3e658a310ce3a9da1a17b9d314a4bd1526d4d\n",
            "  Stored in directory: /root/.cache/pip/wheels/dd/59/af/8d6c96a719763990f1c548e36b17d9efdfb767f42f7ff39f53\n",
            "Successfully built googletrans\n",
            "Installing collected packages: hyperframe, hpack, sniffio, h2, h11, rfc3986, httpcore, hstspreload, httpx, googletrans\n",
            "Successfully installed googletrans-3.1.0a0 h11-0.9.0 h2-3.2.0 hpack-3.0.0 hstspreload-2022.12.1 httpcore-0.9.1 httpx-0.13.3 hyperframe-5.2.0 rfc3986-1.5.0 sniffio-1.3.0\n"
          ]
        }
      ],
      "source": [
        "pip install googletrans==3.1.0a0"
      ]
    },
    {
      "cell_type": "code",
      "execution_count": 3,
      "metadata": {
        "colab": {
          "base_uri": "https://localhost:8080/"
        },
        "id": "ghW9buUP7B25",
        "outputId": "045d278f-c3ba-44b7-8646-43d55d9eb176"
      },
      "outputs": [
        {
          "output_type": "stream",
          "name": "stdout",
          "text": [
            "Looking in indexes: https://pypi.org/simple, https://us-python.pkg.dev/colab-wheels/public/simple/\n",
            "Collecting translate\n",
            "  Downloading translate-3.6.1-py2.py3-none-any.whl (12 kB)\n",
            "Collecting libretranslatepy==2.1.1\n",
            "  Downloading libretranslatepy-2.1.1-py3-none-any.whl (3.2 kB)\n",
            "Requirement already satisfied: requests in /usr/local/lib/python3.8/dist-packages (from translate) (2.23.0)\n",
            "Requirement already satisfied: lxml in /usr/local/lib/python3.8/dist-packages (from translate) (4.9.1)\n",
            "Requirement already satisfied: click in /usr/local/lib/python3.8/dist-packages (from translate) (7.1.2)\n",
            "Requirement already satisfied: chardet<4,>=3.0.2 in /usr/local/lib/python3.8/dist-packages (from requests->translate) (3.0.4)\n",
            "Requirement already satisfied: certifi>=2017.4.17 in /usr/local/lib/python3.8/dist-packages (from requests->translate) (2022.9.24)\n",
            "Requirement already satisfied: idna<3,>=2.5 in /usr/local/lib/python3.8/dist-packages (from requests->translate) (2.10)\n",
            "Requirement already satisfied: urllib3!=1.25.0,!=1.25.1,<1.26,>=1.21.1 in /usr/local/lib/python3.8/dist-packages (from requests->translate) (1.24.3)\n",
            "Installing collected packages: libretranslatepy, translate\n",
            "Successfully installed libretranslatepy-2.1.1 translate-3.6.1\n"
          ]
        }
      ],
      "source": [
        "pip install translate"
      ]
    },
    {
      "cell_type": "markdown",
      "source": [
        "### Importing Libraries"
      ],
      "metadata": {
        "id": "ygaicc2Jybhr"
      }
    },
    {
      "cell_type": "code",
      "execution_count": 19,
      "metadata": {
        "id": "fNoSVPBmjfp6"
      },
      "outputs": [],
      "source": [
        "import os\n",
        "import sys\n",
        "import subprocess\n",
        "import pandas as pd"
      ]
    },
    {
      "cell_type": "markdown",
      "source": [
        "### Loading Medium model from Whisper"
      ],
      "metadata": {
        "id": "MZCUWp1GxfBE"
      }
    },
    {
      "cell_type": "code",
      "execution_count": 20,
      "metadata": {
        "id": "wMKp_laYjgJI"
      },
      "outputs": [],
      "source": [
        "import whisper\n",
        "model = whisper.load_model('medium') "
      ]
    },
    {
      "cell_type": "markdown",
      "source": [
        "### Converting Mp4 file to an Mp3 file"
      ],
      "metadata": {
        "id": "H67t2e-uxjtB"
      }
    },
    {
      "cell_type": "code",
      "execution_count": 6,
      "metadata": {
        "id": "NoX9r9I8jimx"
      },
      "outputs": [],
      "source": [
        "def video2mp3(video_file, output_ext=\"mp3\"):\n",
        "    filename, ext = os.path.splitext(video_file)\n",
        "    subprocess.call([\"ffmpeg\", \"-y\", \"-i\", video_file, f\"{filename}.{output_ext}\"], \n",
        "                    stdout=subprocess.DEVNULL,\n",
        "                    stderr=subprocess.STDOUT)\n",
        "    return f\"{filename}.{output_ext}\""
      ]
    },
    {
      "cell_type": "code",
      "execution_count": 21,
      "metadata": {
        "id": "zLequc0Bjm0R"
      },
      "outputs": [],
      "source": [
        "input_video = \"/content/ShortFilm.mp4\""
      ]
    },
    {
      "cell_type": "code",
      "execution_count": 8,
      "metadata": {
        "id": "rAGFrA90kCo_"
      },
      "outputs": [],
      "source": [
        "audio_file = video2mp3(input_video)"
      ]
    },
    {
      "cell_type": "code",
      "execution_count": 9,
      "metadata": {
        "id": "hlhq_6OpjpX3"
      },
      "outputs": [],
      "source": [
        "from IPython.display import Audio\n",
        "Audio(audio_file)"
      ]
    },
    {
      "cell_type": "markdown",
      "source": [
        "### Using Whisper to transcribe the audio file"
      ],
      "metadata": {
        "id": "Up2Udp-OxrWG"
      }
    },
    {
      "cell_type": "code",
      "execution_count": 22,
      "metadata": {
        "id": "HNKnDDU1jp38"
      },
      "outputs": [],
      "source": [
        "def translate(audio):\n",
        "    options = dict(beam_size=5, best_of=5)\n",
        "    translate_options = dict(task=\"translate\", **options)\n",
        "    result = model.transcribe(audio_file, **translate_options)\n",
        "    return result"
      ]
    },
    {
      "cell_type": "code",
      "execution_count": 11,
      "metadata": {
        "id": "KNkPn8jJjvBf"
      },
      "outputs": [],
      "source": [
        "result = translate(audio_file)"
      ]
    },
    {
      "cell_type": "code",
      "execution_count": 12,
      "metadata": {
        "colab": {
          "base_uri": "https://localhost:8080/"
        },
        "id": "a-1o4RMrlgBv",
        "outputId": "e6ae7a74-f265-4eae-c2cd-8f47302f1c31"
      },
      "outputs": [
        {
          "data": {
            "text/plain": [
              "{'id': 0,\n",
              " 'seek': 3000,\n",
              " 'start': 30.0,\n",
              " 'end': 32.96,\n",
              " 'text': ' BATTLE ANIMATED',\n",
              " 'tokens': [363, 43321, 2634, 5252, 6324, 2218, 4731],\n",
              " 'temperature': 1.0,\n",
              " 'avg_logprob': -2.941813514346168,\n",
              " 'compression_ratio': 0.8490566037735849,\n",
              " 'no_speech_prob': 0.10619298368692398}"
            ]
          },
          "execution_count": 12,
          "metadata": {},
          "output_type": "execute_result"
        }
      ],
      "source": [
        "(result[\"segments\"])[0]"
      ]
    },
    {
      "cell_type": "code",
      "execution_count": 13,
      "metadata": {
        "colab": {
          "base_uri": "https://localhost:8080/"
        },
        "id": "nJ_FCzv_monB",
        "outputId": "470232c5-5c58-46a5-88af-e2194af0813f"
      },
      "outputs": [
        {
          "output_type": "execute_result",
          "data": {
            "text/plain": [
              "30.0"
            ]
          },
          "metadata": {},
          "execution_count": 13
        }
      ],
      "source": [
        "((result[\"segments\"])[0])['start']"
      ]
    },
    {
      "cell_type": "code",
      "execution_count": 14,
      "metadata": {
        "colab": {
          "base_uri": "https://localhost:8080/"
        },
        "id": "zTvlcam3mrIf",
        "outputId": "f6ccef15-27a8-4dc8-b5b4-8bd4be81d17c"
      },
      "outputs": [
        {
          "output_type": "execute_result",
          "data": {
            "text/plain": [
              "167"
            ]
          },
          "metadata": {},
          "execution_count": 14
        }
      ],
      "source": [
        "len(result['segments'])"
      ]
    },
    {
      "cell_type": "markdown",
      "source": [
        "### Creating a DataFrame"
      ],
      "metadata": {
        "id": "yapL9AJX0UHZ"
      }
    },
    {
      "cell_type": "code",
      "execution_count": 15,
      "metadata": {
        "id": "sdE4dHPulr8c"
      },
      "outputs": [],
      "source": [
        "start = []\n",
        "end = []\n",
        "text = []\n",
        "\n",
        "for i in range(len(result['segments'])):\n",
        "  start.append(str(((result['segments'])[i])['start']))\n",
        "  end.append(str(((result['segments'])[i])['end']))\n",
        "  eng = str(((result['segments'])[i])['text'])\n",
        "  text.append(eng)\n",
        "  \n",
        "  # translation = t.translate(eng)\n",
        "  # Hindi.append(translation.text)"
      ]
    },
    {
      "cell_type": "markdown",
      "source": [
        "### Translating the Generated English Text to Hindi"
      ],
      "metadata": {
        "id": "Jcr85tSb0XE2"
      }
    },
    {
      "cell_type": "code",
      "execution_count": 16,
      "metadata": {
        "id": "S7e3UZbtCo29"
      },
      "outputs": [],
      "source": [
        "Hindi = []\n",
        "from googletrans import Translator\n",
        "t = Translator()\n",
        "\n",
        "for i in range(len(result['segments'])):\n",
        "  translation = t.translate(((result['segments'])[i])['text'], dest = 'hi')\n",
        "  Hindi.append(translation.text)"
      ]
    },
    {
      "cell_type": "code",
      "execution_count": 17,
      "metadata": {
        "colab": {
          "base_uri": "https://localhost:8080/",
          "height": 424
        },
        "id": "Pwqb9ZtRD6zk",
        "outputId": "3b737063-12ce-48eb-d4b0-9c5e20387858"
      },
      "outputs": [
        {
          "output_type": "execute_result",
          "data": {
            "text/plain": [
              "      Start     End                                               Text  \\\n",
              "0      30.0   32.96                                    BATTLE ANIMATED   \n",
              "1     56.64   58.68                      What are life's big fans for?   \n",
              "2     58.68   61.68           If you are a friend, you are like Karna.   \n",
              "3     61.68   63.68                 Whoever knows that he is defeated,   \n",
              "4     63.68   66.68                           still he fights for you.   \n",
              "..      ...     ...                                                ...   \n",
              "162  872.68  875.68            You will see the way ahead on your own.   \n",
              "163  875.68  879.68                    Say thank you to your bad time.   \n",
              "164  879.68  906.68   Because it is the one who has made you so str...   \n",
              "165  909.68  911.68                            Thank you for watching.   \n",
              "166  939.68  941.68                            Thank you for watching.   \n",
              "\n",
              "                                                 Hindi  \n",
              "0                                       लड़ाई एनिमेटेड  \n",
              "1                    जीवन के बड़े प्रशंसक किस लिए हैं?  \n",
              "2            यदि आप मित्र हैं, तो आप कर्ण के समान हैं।  \n",
              "3                        जो जानता है कि वह हार गया है,  \n",
              "4                     फिर भी वह तुम्हारे लिए लड़ता है।  \n",
              "..                                                 ...  \n",
              "162                      आगे का रास्ता आप खुद देखेंगे।  \n",
              "163                     अपने बुरे समय को थैंक्यू कहें।  \n",
              "164  क्योंकि यह वही है जिसने आपको इतना मजबूत बनाया है।  \n",
              "165                              देखने के लिए धन्यवाद।  \n",
              "166                              देखने के लिए धन्यवाद।  \n",
              "\n",
              "[167 rows x 4 columns]"
            ],
            "text/html": [
              "\n",
              "  <div id=\"df-56acc70d-830b-432f-9e8b-57d5ee7e0fd1\">\n",
              "    <div class=\"colab-df-container\">\n",
              "      <div>\n",
              "<style scoped>\n",
              "    .dataframe tbody tr th:only-of-type {\n",
              "        vertical-align: middle;\n",
              "    }\n",
              "\n",
              "    .dataframe tbody tr th {\n",
              "        vertical-align: top;\n",
              "    }\n",
              "\n",
              "    .dataframe thead th {\n",
              "        text-align: right;\n",
              "    }\n",
              "</style>\n",
              "<table border=\"1\" class=\"dataframe\">\n",
              "  <thead>\n",
              "    <tr style=\"text-align: right;\">\n",
              "      <th></th>\n",
              "      <th>Start</th>\n",
              "      <th>End</th>\n",
              "      <th>Text</th>\n",
              "      <th>Hindi</th>\n",
              "    </tr>\n",
              "  </thead>\n",
              "  <tbody>\n",
              "    <tr>\n",
              "      <th>0</th>\n",
              "      <td>30.0</td>\n",
              "      <td>32.96</td>\n",
              "      <td>BATTLE ANIMATED</td>\n",
              "      <td>लड़ाई एनिमेटेड</td>\n",
              "    </tr>\n",
              "    <tr>\n",
              "      <th>1</th>\n",
              "      <td>56.64</td>\n",
              "      <td>58.68</td>\n",
              "      <td>What are life's big fans for?</td>\n",
              "      <td>जीवन के बड़े प्रशंसक किस लिए हैं?</td>\n",
              "    </tr>\n",
              "    <tr>\n",
              "      <th>2</th>\n",
              "      <td>58.68</td>\n",
              "      <td>61.68</td>\n",
              "      <td>If you are a friend, you are like Karna.</td>\n",
              "      <td>यदि आप मित्र हैं, तो आप कर्ण के समान हैं।</td>\n",
              "    </tr>\n",
              "    <tr>\n",
              "      <th>3</th>\n",
              "      <td>61.68</td>\n",
              "      <td>63.68</td>\n",
              "      <td>Whoever knows that he is defeated,</td>\n",
              "      <td>जो जानता है कि वह हार गया है,</td>\n",
              "    </tr>\n",
              "    <tr>\n",
              "      <th>4</th>\n",
              "      <td>63.68</td>\n",
              "      <td>66.68</td>\n",
              "      <td>still he fights for you.</td>\n",
              "      <td>फिर भी वह तुम्हारे लिए लड़ता है।</td>\n",
              "    </tr>\n",
              "    <tr>\n",
              "      <th>...</th>\n",
              "      <td>...</td>\n",
              "      <td>...</td>\n",
              "      <td>...</td>\n",
              "      <td>...</td>\n",
              "    </tr>\n",
              "    <tr>\n",
              "      <th>162</th>\n",
              "      <td>872.68</td>\n",
              "      <td>875.68</td>\n",
              "      <td>You will see the way ahead on your own.</td>\n",
              "      <td>आगे का रास्ता आप खुद देखेंगे।</td>\n",
              "    </tr>\n",
              "    <tr>\n",
              "      <th>163</th>\n",
              "      <td>875.68</td>\n",
              "      <td>879.68</td>\n",
              "      <td>Say thank you to your bad time.</td>\n",
              "      <td>अपने बुरे समय को थैंक्यू कहें।</td>\n",
              "    </tr>\n",
              "    <tr>\n",
              "      <th>164</th>\n",
              "      <td>879.68</td>\n",
              "      <td>906.68</td>\n",
              "      <td>Because it is the one who has made you so str...</td>\n",
              "      <td>क्योंकि यह वही है जिसने आपको इतना मजबूत बनाया है।</td>\n",
              "    </tr>\n",
              "    <tr>\n",
              "      <th>165</th>\n",
              "      <td>909.68</td>\n",
              "      <td>911.68</td>\n",
              "      <td>Thank you for watching.</td>\n",
              "      <td>देखने के लिए धन्यवाद।</td>\n",
              "    </tr>\n",
              "    <tr>\n",
              "      <th>166</th>\n",
              "      <td>939.68</td>\n",
              "      <td>941.68</td>\n",
              "      <td>Thank you for watching.</td>\n",
              "      <td>देखने के लिए धन्यवाद।</td>\n",
              "    </tr>\n",
              "  </tbody>\n",
              "</table>\n",
              "<p>167 rows × 4 columns</p>\n",
              "</div>\n",
              "      <button class=\"colab-df-convert\" onclick=\"convertToInteractive('df-56acc70d-830b-432f-9e8b-57d5ee7e0fd1')\"\n",
              "              title=\"Convert this dataframe to an interactive table.\"\n",
              "              style=\"display:none;\">\n",
              "        \n",
              "  <svg xmlns=\"http://www.w3.org/2000/svg\" height=\"24px\"viewBox=\"0 0 24 24\"\n",
              "       width=\"24px\">\n",
              "    <path d=\"M0 0h24v24H0V0z\" fill=\"none\"/>\n",
              "    <path d=\"M18.56 5.44l.94 2.06.94-2.06 2.06-.94-2.06-.94-.94-2.06-.94 2.06-2.06.94zm-11 1L8.5 8.5l.94-2.06 2.06-.94-2.06-.94L8.5 2.5l-.94 2.06-2.06.94zm10 10l.94 2.06.94-2.06 2.06-.94-2.06-.94-.94-2.06-.94 2.06-2.06.94z\"/><path d=\"M17.41 7.96l-1.37-1.37c-.4-.4-.92-.59-1.43-.59-.52 0-1.04.2-1.43.59L10.3 9.45l-7.72 7.72c-.78.78-.78 2.05 0 2.83L4 21.41c.39.39.9.59 1.41.59.51 0 1.02-.2 1.41-.59l7.78-7.78 2.81-2.81c.8-.78.8-2.07 0-2.86zM5.41 20L4 18.59l7.72-7.72 1.47 1.35L5.41 20z\"/>\n",
              "  </svg>\n",
              "      </button>\n",
              "      \n",
              "  <style>\n",
              "    .colab-df-container {\n",
              "      display:flex;\n",
              "      flex-wrap:wrap;\n",
              "      gap: 12px;\n",
              "    }\n",
              "\n",
              "    .colab-df-convert {\n",
              "      background-color: #E8F0FE;\n",
              "      border: none;\n",
              "      border-radius: 50%;\n",
              "      cursor: pointer;\n",
              "      display: none;\n",
              "      fill: #1967D2;\n",
              "      height: 32px;\n",
              "      padding: 0 0 0 0;\n",
              "      width: 32px;\n",
              "    }\n",
              "\n",
              "    .colab-df-convert:hover {\n",
              "      background-color: #E2EBFA;\n",
              "      box-shadow: 0px 1px 2px rgba(60, 64, 67, 0.3), 0px 1px 3px 1px rgba(60, 64, 67, 0.15);\n",
              "      fill: #174EA6;\n",
              "    }\n",
              "\n",
              "    [theme=dark] .colab-df-convert {\n",
              "      background-color: #3B4455;\n",
              "      fill: #D2E3FC;\n",
              "    }\n",
              "\n",
              "    [theme=dark] .colab-df-convert:hover {\n",
              "      background-color: #434B5C;\n",
              "      box-shadow: 0px 1px 3px 1px rgba(0, 0, 0, 0.15);\n",
              "      filter: drop-shadow(0px 1px 2px rgba(0, 0, 0, 0.3));\n",
              "      fill: #FFFFFF;\n",
              "    }\n",
              "  </style>\n",
              "\n",
              "      <script>\n",
              "        const buttonEl =\n",
              "          document.querySelector('#df-56acc70d-830b-432f-9e8b-57d5ee7e0fd1 button.colab-df-convert');\n",
              "        buttonEl.style.display =\n",
              "          google.colab.kernel.accessAllowed ? 'block' : 'none';\n",
              "\n",
              "        async function convertToInteractive(key) {\n",
              "          const element = document.querySelector('#df-56acc70d-830b-432f-9e8b-57d5ee7e0fd1');\n",
              "          const dataTable =\n",
              "            await google.colab.kernel.invokeFunction('convertToInteractive',\n",
              "                                                     [key], {});\n",
              "          if (!dataTable) return;\n",
              "\n",
              "          const docLinkHtml = 'Like what you see? Visit the ' +\n",
              "            '<a target=\"_blank\" href=https://colab.research.google.com/notebooks/data_table.ipynb>data table notebook</a>'\n",
              "            + ' to learn more about interactive tables.';\n",
              "          element.innerHTML = '';\n",
              "          dataTable['output_type'] = 'display_data';\n",
              "          await google.colab.output.renderOutput(dataTable, element);\n",
              "          const docLink = document.createElement('div');\n",
              "          docLink.innerHTML = docLinkHtml;\n",
              "          element.appendChild(docLink);\n",
              "        }\n",
              "      </script>\n",
              "    </div>\n",
              "  </div>\n",
              "  "
            ]
          },
          "metadata": {},
          "execution_count": 17
        }
      ],
      "source": [
        "df = pd.DataFrame([start, end, text, Hindi]).T\n",
        "df = df.rename(columns = {0 : 'Start', 1 : 'End' , 2 : \"Text\" , 3 : \"Hindi\"})\n",
        "df"
      ]
    },
    {
      "cell_type": "markdown",
      "source": [
        "### Generating a Text file with TimeStamps and Hindi Subtitles"
      ],
      "metadata": {
        "id": "OHztaR4xRnxX"
      }
    },
    {
      "cell_type": "code",
      "source": [
        "file = open(\"Hindi_Subtitles.txt\",\"w\")\n",
        "L = ['Hindi Subtitles']\n",
        "for i in range(len(df)):\n",
        "\n",
        "  # ok = str(str(i) + '. ' + str(df['Start'][i]) + \"  ------>  \" + str(df['End'][i]) + \"\\n\" + str(df['Hindi'[i]] + '\\n'))\n",
        "  # file.writelines(ok)\n",
        "  file.writelines(str(i))\n",
        "  file.writelines('.     ')\n",
        "  file.writelines(str(df['Start'][i]))\n",
        "  file.writelines(\" -------> \")\n",
        "  file.writelines(str(df[\"End\"][i]))\n",
        "  file.writelines(\"\\n\")\n",
        "  file.writelines('       ')\n",
        "  file.writelines(str(df['Hindi'][i]))\n",
        "  file.writelines('\\n\\n\\n')\n",
        "\n",
        "file.close()\n"
      ],
      "metadata": {
        "id": "sboPUCEAWOX3"
      },
      "execution_count": 18,
      "outputs": []
    }
  ],
  "metadata": {
    "accelerator": "GPU",
    "colab": {
      "provenance": []
    },
    "gpuClass": "standard",
    "kernelspec": {
      "display_name": "Python 3",
      "name": "python3"
    },
    "language_info": {
      "name": "python"
    }
  },
  "nbformat": 4,
  "nbformat_minor": 0
}